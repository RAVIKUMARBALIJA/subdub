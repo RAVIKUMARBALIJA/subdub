{
 "cells": [
  {
   "cell_type": "code",
   "execution_count": 3,
   "metadata": {},
   "outputs": [],
   "source": [
    "import os\n",
    "import sys\n",
    "import json\n",
    "import numpy as np\n",
    "import pandas as pd\n",
    "import matplotlib.pyplot as plt\n",
    "import seaborn as sns\n",
    "import warnings\n",
    "warnings.filterwarnings(\"ignore\")"
   ]
  },
  {
   "cell_type": "code",
   "execution_count": 5,
   "metadata": {},
   "outputs": [],
   "source": [
    "import librosa"
   ]
  },
  {
   "cell_type": "code",
   "execution_count": 6,
   "metadata": {},
   "outputs": [],
   "source": [
    "path = \"/home/ravikumar/Downloads/Hackathon/ENSV-all/ENSV001.mp3\""
   ]
  },
  {
   "cell_type": "code",
   "execution_count": 8,
   "metadata": {},
   "outputs": [],
   "source": [
    "samples,sampling_rate = librosa.load(path,sr=None,mono=None,offset=0.0,duration=None)"
   ]
  },
  {
   "cell_type": "code",
   "execution_count": 9,
   "metadata": {},
   "outputs": [
    {
     "data": {
      "text/plain": [
       "(5438111, 32000)"
      ]
     },
     "execution_count": 9,
     "metadata": {},
     "output_type": "execute_result"
    }
   ],
   "source": [
    "len(samples),sampling_rate"
   ]
  },
  {
   "cell_type": "code",
   "execution_count": 10,
   "metadata": {},
   "outputs": [
    {
     "name": "stdout",
     "output_type": "stream",
     "text": [
      "169.94096875\n"
     ]
    }
   ],
   "source": [
    "duration = len(samples)/sampling_rate\n",
    "print(duration)"
   ]
  },
  {
   "cell_type": "code",
   "execution_count": 19,
   "metadata": {},
   "outputs": [
    {
     "data": {
      "image/png": "[encoded data removed]",
      "text/plain": [
       "<Figure size 432x288 with 1 Axes>"
      ]
     },
     "metadata": {
      "needs_background": "light"
     },
     "output_type": "display_data"
    }
   ],
   "source": [
    "from librosa import display\n",
    "plt.figure()\n",
    "display.waveshow(y=samples,sr=sampling_rate)\n",
    "plt.xlabel(\"Time (seconds)\")\n",
    "plt.ylabel(\"amplitute\")\n",
    "plt.xlim([0.20,5.0])\n",
    "plt.show()"
   ]
  },
  {
   "cell_type": "code",
   "execution_count": 5,
   "metadata": {},
   "outputs": [],
   "source": [
    "import transformers\n",
    "from datasets import load_dataset"
   ]
  },
  {
   "cell_type": "code",
   "execution_count": 12,
   "metadata": {},
   "outputs": [
    {
     "name": "stderr",
     "output_type": "stream",
     "text": [
      "Reusing dataset opus_books (/home/ravikumar/.cache/huggingface/datasets/opus_books/en-fr/1.0.0/e8f950a4f32dc39b7f9088908216cd2d7e21ac35f893d04d39eb594746af2daf)\n",
      "100%|██████████| 1/1 [00:00<00:00, 169.64it/s]\n"
     ]
    }
   ],
   "source": [
    "books = load_dataset(\"opus_books\",\"en-fr\")"
   ]
  },
  {
   "cell_type": "code",
   "execution_count": 13,
   "metadata": {},
   "outputs": [],
   "source": [
    "books = books[\"train\"].train_test_split(test_size=0.2)"
   ]
  },
  {
   "cell_type": "code",
   "execution_count": 20,
   "metadata": {},
   "outputs": [
    {
     "data": {
      "text/plain": [
       "{'id': '14130',\n",
       " 'translation': {'en': '\"Quite well,\" he enunciated; and, with a bow, he left the gate. She went one way; he another.',\n",
       "  'fr': \"«Très bien,» répondit-il, et, après s'être incliné, il s'éloigna.\"}}"
      ]
     },
     "execution_count": 20,
     "metadata": {},
     "output_type": "execute_result"
    }
   ],
   "source": [
    "books[\"train\"][15]"
   ]
  },
  {
   "cell_type": "code",
   "execution_count": 23,
   "metadata": {},
   "outputs": [],
   "source": [
    "from transformers import AutoTokenizer\n",
    "\n",
    "tokenizer = AutoTokenizer.from_pretrained(\"bert-base-uncased\")"
   ]
  },
  {
   "cell_type": "code",
   "execution_count": 24,
   "metadata": {},
   "outputs": [],
   "source": [
    "source_lang = \"en\"\n",
    "target_lang = \"fr\"\n",
    "prefix = \"translate English to French: \"\n",
    "\n",
    "\n",
    "def preprocess_function(examples):\n",
    "    inputs = [prefix + example[source_lang] for example in examples[\"translation\"]]\n",
    "    targets = [example[target_lang] for example in examples[\"translation\"]]\n",
    "    model_inputs = tokenizer(inputs, max_length=128, truncation=True)\n",
    "\n",
    "    with tokenizer.as_target_tokenizer():\n",
    "        labels = tokenizer(targets, max_length=128, truncation=True)\n",
    "\n",
    "    model_inputs[\"labels\"] = labels[\"input_ids\"]\n",
    "    return model_inputs"
   ]
  },
  {
   "cell_type": "code",
   "execution_count": 25,
   "metadata": {},
   "outputs": [
    {
     "name": "stderr",
     "output_type": "stream",
     "text": [
      "100%|██████████| 102/102 [00:21<00:00,  4.81ba/s]\n",
      "100%|██████████| 26/26 [00:05<00:00,  4.67ba/s]\n"
     ]
    }
   ],
   "source": [
    "tokenized_books = books.map(preprocess_function, batched=True)"
   ]
  },
  {
   "cell_type": "code",
   "execution_count": 26,
   "metadata": {},
   "outputs": [
    {
     "data": {
      "text/plain": [
       "DatasetDict({\n",
       "    train: Dataset({\n",
       "        features: ['id', 'translation', 'input_ids', 'token_type_ids', 'attention_mask', 'labels'],\n",
       "        num_rows: 101668\n",
       "    })\n",
       "    test: Dataset({\n",
       "        features: ['id', 'translation', 'input_ids', 'token_type_ids', 'attention_mask', 'labels'],\n",
       "        num_rows: 25417\n",
       "    })\n",
       "})"
      ]
     },
     "execution_count": 26,
     "metadata": {},
     "output_type": "execute_result"
    }
   ],
   "source": [
    "tokenized_books"
   ]
  },
  {
   "cell_type": "code",
   "execution_count": 31,
   "metadata": {},
   "outputs": [
    {
     "name": "stdout",
     "output_type": "stream",
     "text": [
      "huggingface/tokenizers: The current process just got forked, after parallelism has already been used. Disabling parallelism to avoid deadlocks...\n",
      "To disable this warning, you can either:\n",
      "\t- Avoid using `tokenizers` before the fork if possible\n",
      "\t- Explicitly set the environment variable TOKENIZERS_PARALLELISM=(true | false)\n",
      "Requirement already satisfied: torch in /home/ravikumar/Downloads/Hackathon/env_subdub/lib/python3.9/site-packages (1.11.0)\n",
      "Requirement already satisfied: typing-extensions in /home/ravikumar/Downloads/Hackathon/env_subdub/lib/python3.9/site-packages (from torch) (4.2.0)\n",
      "\u001b[33mWARNING: You are using pip version 21.2.3; however, version 22.1.2 is available.\n",
      "You should consider upgrading via the '/home/ravikumar/Downloads/Hackathon/env_subdub/bin/python3 -m pip install --upgrade pip' command.\u001b[0m\n"
     ]
    }
   ],
   "source": [
    "!pip3 install torch"
   ]
  },
  {
   "cell_type": "code",
   "execution_count": 32,
   "metadata": {},
   "outputs": [
    {
     "ename": "ImportError",
     "evalue": "\nAutoModelForSeq2SeqLM requires the PyTorch library but it was not found in your environment. Checkout the instructions on the\ninstallation page: https://pytorch.org/get-started/locally/ and follow the ones that match your environment.\n",
     "output_type": "error",
     "traceback": [
      "\u001b[0;31m---------------------------------------------------------------------------\u001b[0m",
      "\u001b[0;31mImportError\u001b[0m                               Traceback (most recent call last)",
      "\u001b[1;32m/home/ravikumar/Downloads/Hackathon/subdub/analysis/analysis.ipynb Cell 17'\u001b[0m in \u001b[0;36m<cell line: 3>\u001b[0;34m()\u001b[0m\n\u001b[1;32m      <a href='vscode-notebook-cell:/home/ravikumar/Downloads/Hackathon/subdub/analysis/analysis.ipynb#ch0000017?line=0'>1</a>\u001b[0m \u001b[39mfrom\u001b[39;00m \u001b[39mtransformers\u001b[39;00m \u001b[39mimport\u001b[39;00m AutoModelForSeq2SeqLM, Seq2SeqTrainingArguments, Seq2SeqTrainer\n\u001b[0;32m----> <a href='vscode-notebook-cell:/home/ravikumar/Downloads/Hackathon/subdub/analysis/analysis.ipynb#ch0000017?line=2'>3</a>\u001b[0m model \u001b[39m=\u001b[39m AutoModelForSeq2SeqLM\u001b[39m.\u001b[39;49mfrom_pretrained(\u001b[39m\"\u001b[39m\u001b[39mbert-base-uncased\u001b[39m\u001b[39m\"\u001b[39m)\n",
      "File \u001b[0;32m~/Downloads/Hackathon/env_subdub/lib/python3.9/site-packages/transformers/utils/import_utils.py:788\u001b[0m, in \u001b[0;36mDummyObject.__getattr__\u001b[0;34m(cls, key)\u001b[0m\n\u001b[1;32m    <a href='file:///home/ravikumar/Downloads/Hackathon/env_subdub/lib/python3.9/site-packages/transformers/utils/import_utils.py?line=785'>786</a>\u001b[0m \u001b[39mif\u001b[39;00m key\u001b[39m.\u001b[39mstartswith(\u001b[39m\"\u001b[39m\u001b[39m_\u001b[39m\u001b[39m\"\u001b[39m):\n\u001b[1;32m    <a href='file:///home/ravikumar/Downloads/Hackathon/env_subdub/lib/python3.9/site-packages/transformers/utils/import_utils.py?line=786'>787</a>\u001b[0m     \u001b[39mreturn\u001b[39;00m \u001b[39msuper\u001b[39m()\u001b[39m.\u001b[39m\u001b[39m__getattr__\u001b[39m(\u001b[39mcls\u001b[39m, key)\n\u001b[0;32m--> <a href='file:///home/ravikumar/Downloads/Hackathon/env_subdub/lib/python3.9/site-packages/transformers/utils/import_utils.py?line=787'>788</a>\u001b[0m requires_backends(\u001b[39mcls\u001b[39;49m, \u001b[39mcls\u001b[39;49m\u001b[39m.\u001b[39;49m_backends)\n",
      "File \u001b[0;32m~/Downloads/Hackathon/env_subdub/lib/python3.9/site-packages/transformers/utils/import_utils.py:776\u001b[0m, in \u001b[0;36mrequires_backends\u001b[0;34m(obj, backends)\u001b[0m\n\u001b[1;32m    <a href='file:///home/ravikumar/Downloads/Hackathon/env_subdub/lib/python3.9/site-packages/transformers/utils/import_utils.py?line=773'>774</a>\u001b[0m failed \u001b[39m=\u001b[39m [msg\u001b[39m.\u001b[39mformat(name) \u001b[39mfor\u001b[39;00m available, msg \u001b[39min\u001b[39;00m checks \u001b[39mif\u001b[39;00m \u001b[39mnot\u001b[39;00m available()]\n\u001b[1;32m    <a href='file:///home/ravikumar/Downloads/Hackathon/env_subdub/lib/python3.9/site-packages/transformers/utils/import_utils.py?line=774'>775</a>\u001b[0m \u001b[39mif\u001b[39;00m failed:\n\u001b[0;32m--> <a href='file:///home/ravikumar/Downloads/Hackathon/env_subdub/lib/python3.9/site-packages/transformers/utils/import_utils.py?line=775'>776</a>\u001b[0m     \u001b[39mraise\u001b[39;00m \u001b[39mImportError\u001b[39;00m(\u001b[39m\"\u001b[39m\u001b[39m\"\u001b[39m\u001b[39m.\u001b[39mjoin(failed))\n",
      "\u001b[0;31mImportError\u001b[0m: \nAutoModelForSeq2SeqLM requires the PyTorch library but it was not found in your environment. Checkout the instructions on the\ninstallation page: https://pytorch.org/get-started/locally/ and follow the ones that match your environment.\n"
     ]
    }
   ],
   "source": [
    "from transformers import AutoModelForSeq2SeqLM, Seq2SeqTrainingArguments, Seq2SeqTrainer\n",
    "\n",
    "model = AutoModelForSeq2SeqLM.from_pretrained(\"bert-base-uncased\")"
   ]
  },
  {
   "cell_type": "code",
   "execution_count": 33,
   "metadata": {},
   "outputs": [],
   "source": [
    "from transformers import AutoTokenizer,TFAutoModelForSequenceClassification, TFAutoModelForSeq2SeqLM"
   ]
  },
  {
   "cell_type": "code",
   "execution_count": 34,
   "metadata": {},
   "outputs": [
    {
     "ename": "ValueError",
     "evalue": "Connection error, and we cannot find the requested files in the cached path. Please try again or make sure your Internet connection is on.",
     "output_type": "error",
     "traceback": [
      "\u001b[0;31m---------------------------------------------------------------------------\u001b[0m",
      "\u001b[0;31mValueError\u001b[0m                                Traceback (most recent call last)",
      "\u001b[1;32m/home/ravikumar/Downloads/Hackathon/subdub/analysis/analysis.ipynb Cell 19'\u001b[0m in \u001b[0;36m<cell line: 1>\u001b[0;34m()\u001b[0m\n\u001b[0;32m----> <a href='vscode-notebook-cell:/home/ravikumar/Downloads/Hackathon/subdub/analysis/analysis.ipynb#ch0000015?line=0'>1</a>\u001b[0m tokenizer \u001b[39m=\u001b[39m AutoTokenizer\u001b[39m.\u001b[39;49mfrom_pretrained(\u001b[39m\"\u001b[39;49m\u001b[39mHelsinki-NLP/opus-mt-en-fr\u001b[39;49m\u001b[39m\"\u001b[39;49m)\n",
      "File \u001b[0;32m~/Downloads/Hackathon/env_subdub/lib/python3.9/site-packages/transformers/models/auto/tokenization_auto.py:498\u001b[0m, in \u001b[0;36mAutoTokenizer.from_pretrained\u001b[0;34m(cls, pretrained_model_name_or_path, *inputs, **kwargs)\u001b[0m\n\u001b[1;32m    <a href='file:///home/ravikumar/Downloads/Hackathon/env_subdub/lib/python3.9/site-packages/transformers/models/auto/tokenization_auto.py?line=494'>495</a>\u001b[0m     \u001b[39mreturn\u001b[39;00m tokenizer_class\u001b[39m.\u001b[39mfrom_pretrained(pretrained_model_name_or_path, \u001b[39m*\u001b[39minputs, \u001b[39m*\u001b[39m\u001b[39m*\u001b[39mkwargs)\n\u001b[1;32m    <a href='file:///home/ravikumar/Downloads/Hackathon/env_subdub/lib/python3.9/site-packages/transformers/models/auto/tokenization_auto.py?line=496'>497</a>\u001b[0m \u001b[39m# Next, let's try to use the tokenizer_config file to get the tokenizer class.\u001b[39;00m\n\u001b[0;32m--> <a href='file:///home/ravikumar/Downloads/Hackathon/env_subdub/lib/python3.9/site-packages/transformers/models/auto/tokenization_auto.py?line=497'>498</a>\u001b[0m tokenizer_config \u001b[39m=\u001b[39m get_tokenizer_config(pretrained_model_name_or_path, \u001b[39m*\u001b[39;49m\u001b[39m*\u001b[39;49mkwargs)\n\u001b[1;32m    <a href='file:///home/ravikumar/Downloads/Hackathon/env_subdub/lib/python3.9/site-packages/transformers/models/auto/tokenization_auto.py?line=498'>499</a>\u001b[0m config_tokenizer_class \u001b[39m=\u001b[39m tokenizer_config\u001b[39m.\u001b[39mget(\u001b[39m\"\u001b[39m\u001b[39mtokenizer_class\u001b[39m\u001b[39m\"\u001b[39m)\n\u001b[1;32m    <a href='file:///home/ravikumar/Downloads/Hackathon/env_subdub/lib/python3.9/site-packages/transformers/models/auto/tokenization_auto.py?line=499'>500</a>\u001b[0m tokenizer_auto_map \u001b[39m=\u001b[39m \u001b[39mNone\u001b[39;00m\n",
      "File \u001b[0;32m~/Downloads/Hackathon/env_subdub/lib/python3.9/site-packages/transformers/models/auto/tokenization_auto.py:359\u001b[0m, in \u001b[0;36mget_tokenizer_config\u001b[0;34m(pretrained_model_name_or_path, cache_dir, force_download, resume_download, proxies, use_auth_token, revision, local_files_only, **kwargs)\u001b[0m\n\u001b[1;32m    <a href='file:///home/ravikumar/Downloads/Hackathon/env_subdub/lib/python3.9/site-packages/transformers/models/auto/tokenization_auto.py?line=289'>290</a>\u001b[0m \u001b[39mdef\u001b[39;00m \u001b[39mget_tokenizer_config\u001b[39m(\n\u001b[1;32m    <a href='file:///home/ravikumar/Downloads/Hackathon/env_subdub/lib/python3.9/site-packages/transformers/models/auto/tokenization_auto.py?line=290'>291</a>\u001b[0m     pretrained_model_name_or_path: Union[\u001b[39mstr\u001b[39m, os\u001b[39m.\u001b[39mPathLike],\n\u001b[1;32m    <a href='file:///home/ravikumar/Downloads/Hackathon/env_subdub/lib/python3.9/site-packages/transformers/models/auto/tokenization_auto.py?line=291'>292</a>\u001b[0m     cache_dir: Optional[Union[\u001b[39mstr\u001b[39m, os\u001b[39m.\u001b[39mPathLike]] \u001b[39m=\u001b[39m \u001b[39mNone\u001b[39;00m,\n\u001b[0;32m   (...)\u001b[0m\n\u001b[1;32m    <a href='file:///home/ravikumar/Downloads/Hackathon/env_subdub/lib/python3.9/site-packages/transformers/models/auto/tokenization_auto.py?line=298'>299</a>\u001b[0m     \u001b[39m*\u001b[39m\u001b[39m*\u001b[39mkwargs,\n\u001b[1;32m    <a href='file:///home/ravikumar/Downloads/Hackathon/env_subdub/lib/python3.9/site-packages/transformers/models/auto/tokenization_auto.py?line=299'>300</a>\u001b[0m ):\n\u001b[1;32m    <a href='file:///home/ravikumar/Downloads/Hackathon/env_subdub/lib/python3.9/site-packages/transformers/models/auto/tokenization_auto.py?line=300'>301</a>\u001b[0m     \u001b[39m\"\"\"\u001b[39;00m\n\u001b[1;32m    <a href='file:///home/ravikumar/Downloads/Hackathon/env_subdub/lib/python3.9/site-packages/transformers/models/auto/tokenization_auto.py?line=301'>302</a>\u001b[0m \u001b[39m    Loads the tokenizer configuration from a pretrained model tokenizer configuration.\u001b[39;00m\n\u001b[1;32m    <a href='file:///home/ravikumar/Downloads/Hackathon/env_subdub/lib/python3.9/site-packages/transformers/models/auto/tokenization_auto.py?line=302'>303</a>\u001b[0m \n\u001b[0;32m   (...)\u001b[0m\n\u001b[1;32m    <a href='file:///home/ravikumar/Downloads/Hackathon/env_subdub/lib/python3.9/site-packages/transformers/models/auto/tokenization_auto.py?line=356'>357</a>\u001b[0m \u001b[39m    tokenizer_config = get_tokenizer_config(\"tokenizer-test\")\u001b[39;00m\n\u001b[1;32m    <a href='file:///home/ravikumar/Downloads/Hackathon/env_subdub/lib/python3.9/site-packages/transformers/models/auto/tokenization_auto.py?line=357'>358</a>\u001b[0m \u001b[39m    ```\"\"\"\u001b[39;00m\n\u001b[0;32m--> <a href='file:///home/ravikumar/Downloads/Hackathon/env_subdub/lib/python3.9/site-packages/transformers/models/auto/tokenization_auto.py?line=358'>359</a>\u001b[0m     resolved_config_file \u001b[39m=\u001b[39m get_file_from_repo(\n\u001b[1;32m    <a href='file:///home/ravikumar/Downloads/Hackathon/env_subdub/lib/python3.9/site-packages/transformers/models/auto/tokenization_auto.py?line=359'>360</a>\u001b[0m         pretrained_model_name_or_path,\n\u001b[1;32m    <a href='file:///home/ravikumar/Downloads/Hackathon/env_subdub/lib/python3.9/site-packages/transformers/models/auto/tokenization_auto.py?line=360'>361</a>\u001b[0m         TOKENIZER_CONFIG_FILE,\n\u001b[1;32m    <a href='file:///home/ravikumar/Downloads/Hackathon/env_subdub/lib/python3.9/site-packages/transformers/models/auto/tokenization_auto.py?line=361'>362</a>\u001b[0m         cache_dir\u001b[39m=\u001b[39;49mcache_dir,\n\u001b[1;32m    <a href='file:///home/ravikumar/Downloads/Hackathon/env_subdub/lib/python3.9/site-packages/transformers/models/auto/tokenization_auto.py?line=362'>363</a>\u001b[0m         force_download\u001b[39m=\u001b[39;49mforce_download,\n\u001b[1;32m    <a href='file:///home/ravikumar/Downloads/Hackathon/env_subdub/lib/python3.9/site-packages/transformers/models/auto/tokenization_auto.py?line=363'>364</a>\u001b[0m         resume_download\u001b[39m=\u001b[39;49mresume_download,\n\u001b[1;32m    <a href='file:///home/ravikumar/Downloads/Hackathon/env_subdub/lib/python3.9/site-packages/transformers/models/auto/tokenization_auto.py?line=364'>365</a>\u001b[0m         proxies\u001b[39m=\u001b[39;49mproxies,\n\u001b[1;32m    <a href='file:///home/ravikumar/Downloads/Hackathon/env_subdub/lib/python3.9/site-packages/transformers/models/auto/tokenization_auto.py?line=365'>366</a>\u001b[0m         use_auth_token\u001b[39m=\u001b[39;49muse_auth_token,\n\u001b[1;32m    <a href='file:///home/ravikumar/Downloads/Hackathon/env_subdub/lib/python3.9/site-packages/transformers/models/auto/tokenization_auto.py?line=366'>367</a>\u001b[0m         revision\u001b[39m=\u001b[39;49mrevision,\n\u001b[1;32m    <a href='file:///home/ravikumar/Downloads/Hackathon/env_subdub/lib/python3.9/site-packages/transformers/models/auto/tokenization_auto.py?line=367'>368</a>\u001b[0m         local_files_only\u001b[39m=\u001b[39;49mlocal_files_only,\n\u001b[1;32m    <a href='file:///home/ravikumar/Downloads/Hackathon/env_subdub/lib/python3.9/site-packages/transformers/models/auto/tokenization_auto.py?line=368'>369</a>\u001b[0m     )\n\u001b[1;32m    <a href='file:///home/ravikumar/Downloads/Hackathon/env_subdub/lib/python3.9/site-packages/transformers/models/auto/tokenization_auto.py?line=369'>370</a>\u001b[0m     \u001b[39mif\u001b[39;00m resolved_config_file \u001b[39mis\u001b[39;00m \u001b[39mNone\u001b[39;00m:\n\u001b[1;32m    <a href='file:///home/ravikumar/Downloads/Hackathon/env_subdub/lib/python3.9/site-packages/transformers/models/auto/tokenization_auto.py?line=370'>371</a>\u001b[0m         logger\u001b[39m.\u001b[39minfo(\u001b[39m\"\u001b[39m\u001b[39mCould not locate the tokenizer configuration file, will try to use the model config instead.\u001b[39m\u001b[39m\"\u001b[39m)\n",
      "File \u001b[0;32m~/Downloads/Hackathon/env_subdub/lib/python3.9/site-packages/transformers/utils/hub.py:686\u001b[0m, in \u001b[0;36mget_file_from_repo\u001b[0;34m(path_or_repo, filename, cache_dir, force_download, resume_download, proxies, use_auth_token, revision, local_files_only)\u001b[0m\n\u001b[1;32m    <a href='file:///home/ravikumar/Downloads/Hackathon/env_subdub/lib/python3.9/site-packages/transformers/utils/hub.py?line=681'>682</a>\u001b[0m     resolved_file \u001b[39m=\u001b[39m hf_bucket_url(path_or_repo, filename\u001b[39m=\u001b[39mfilename, revision\u001b[39m=\u001b[39mrevision, mirror\u001b[39m=\u001b[39m\u001b[39mNone\u001b[39;00m)\n\u001b[1;32m    <a href='file:///home/ravikumar/Downloads/Hackathon/env_subdub/lib/python3.9/site-packages/transformers/utils/hub.py?line=683'>684</a>\u001b[0m \u001b[39mtry\u001b[39;00m:\n\u001b[1;32m    <a href='file:///home/ravikumar/Downloads/Hackathon/env_subdub/lib/python3.9/site-packages/transformers/utils/hub.py?line=684'>685</a>\u001b[0m     \u001b[39m# Load from URL or cache if already cached\u001b[39;00m\n\u001b[0;32m--> <a href='file:///home/ravikumar/Downloads/Hackathon/env_subdub/lib/python3.9/site-packages/transformers/utils/hub.py?line=685'>686</a>\u001b[0m     resolved_file \u001b[39m=\u001b[39m cached_path(\n\u001b[1;32m    <a href='file:///home/ravikumar/Downloads/Hackathon/env_subdub/lib/python3.9/site-packages/transformers/utils/hub.py?line=686'>687</a>\u001b[0m         resolved_file,\n\u001b[1;32m    <a href='file:///home/ravikumar/Downloads/Hackathon/env_subdub/lib/python3.9/site-packages/transformers/utils/hub.py?line=687'>688</a>\u001b[0m         cache_dir\u001b[39m=\u001b[39;49mcache_dir,\n\u001b[1;32m    <a href='file:///home/ravikumar/Downloads/Hackathon/env_subdub/lib/python3.9/site-packages/transformers/utils/hub.py?line=688'>689</a>\u001b[0m         force_download\u001b[39m=\u001b[39;49mforce_download,\n\u001b[1;32m    <a href='file:///home/ravikumar/Downloads/Hackathon/env_subdub/lib/python3.9/site-packages/transformers/utils/hub.py?line=689'>690</a>\u001b[0m         proxies\u001b[39m=\u001b[39;49mproxies,\n\u001b[1;32m    <a href='file:///home/ravikumar/Downloads/Hackathon/env_subdub/lib/python3.9/site-packages/transformers/utils/hub.py?line=690'>691</a>\u001b[0m         resume_download\u001b[39m=\u001b[39;49mresume_download,\n\u001b[1;32m    <a href='file:///home/ravikumar/Downloads/Hackathon/env_subdub/lib/python3.9/site-packages/transformers/utils/hub.py?line=691'>692</a>\u001b[0m         local_files_only\u001b[39m=\u001b[39;49mlocal_files_only,\n\u001b[1;32m    <a href='file:///home/ravikumar/Downloads/Hackathon/env_subdub/lib/python3.9/site-packages/transformers/utils/hub.py?line=692'>693</a>\u001b[0m         use_auth_token\u001b[39m=\u001b[39;49muse_auth_token,\n\u001b[1;32m    <a href='file:///home/ravikumar/Downloads/Hackathon/env_subdub/lib/python3.9/site-packages/transformers/utils/hub.py?line=693'>694</a>\u001b[0m     )\n\u001b[1;32m    <a href='file:///home/ravikumar/Downloads/Hackathon/env_subdub/lib/python3.9/site-packages/transformers/utils/hub.py?line=695'>696</a>\u001b[0m \u001b[39mexcept\u001b[39;00m RepositoryNotFoundError:\n\u001b[1;32m    <a href='file:///home/ravikumar/Downloads/Hackathon/env_subdub/lib/python3.9/site-packages/transformers/utils/hub.py?line=696'>697</a>\u001b[0m     \u001b[39mraise\u001b[39;00m \u001b[39mEnvironmentError\u001b[39;00m(\n\u001b[1;32m    <a href='file:///home/ravikumar/Downloads/Hackathon/env_subdub/lib/python3.9/site-packages/transformers/utils/hub.py?line=697'>698</a>\u001b[0m         \u001b[39mf\u001b[39m\u001b[39m\"\u001b[39m\u001b[39m{\u001b[39;00mpath_or_repo\u001b[39m}\u001b[39;00m\u001b[39m is not a local folder and is not a valid model identifier \u001b[39m\u001b[39m\"\u001b[39m\n\u001b[1;32m    <a href='file:///home/ravikumar/Downloads/Hackathon/env_subdub/lib/python3.9/site-packages/transformers/utils/hub.py?line=698'>699</a>\u001b[0m         \u001b[39m\"\u001b[39m\u001b[39mlisted on \u001b[39m\u001b[39m'\u001b[39m\u001b[39mhttps://huggingface.co/models\u001b[39m\u001b[39m'\u001b[39m\u001b[39m\\n\u001b[39;00m\u001b[39mIf this is a private repository, make sure to \u001b[39m\u001b[39m\"\u001b[39m\n\u001b[1;32m    <a href='file:///home/ravikumar/Downloads/Hackathon/env_subdub/lib/python3.9/site-packages/transformers/utils/hub.py?line=699'>700</a>\u001b[0m         \u001b[39m\"\u001b[39m\u001b[39mpass a token having permission to this repo with `use_auth_token` or log in with \u001b[39m\u001b[39m\"\u001b[39m\n\u001b[1;32m    <a href='file:///home/ravikumar/Downloads/Hackathon/env_subdub/lib/python3.9/site-packages/transformers/utils/hub.py?line=700'>701</a>\u001b[0m         \u001b[39m\"\u001b[39m\u001b[39m`huggingface-cli login` and pass `use_auth_token=True`.\u001b[39m\u001b[39m\"\u001b[39m\n\u001b[1;32m    <a href='file:///home/ravikumar/Downloads/Hackathon/env_subdub/lib/python3.9/site-packages/transformers/utils/hub.py?line=701'>702</a>\u001b[0m     )\n",
      "File \u001b[0;32m~/Downloads/Hackathon/env_subdub/lib/python3.9/site-packages/transformers/utils/hub.py:283\u001b[0m, in \u001b[0;36mcached_path\u001b[0;34m(url_or_filename, cache_dir, force_download, proxies, resume_download, user_agent, extract_compressed_file, force_extract, use_auth_token, local_files_only)\u001b[0m\n\u001b[1;32m    <a href='file:///home/ravikumar/Downloads/Hackathon/env_subdub/lib/python3.9/site-packages/transformers/utils/hub.py?line=278'>279</a>\u001b[0m     local_files_only \u001b[39m=\u001b[39m \u001b[39mTrue\u001b[39;00m\n\u001b[1;32m    <a href='file:///home/ravikumar/Downloads/Hackathon/env_subdub/lib/python3.9/site-packages/transformers/utils/hub.py?line=280'>281</a>\u001b[0m \u001b[39mif\u001b[39;00m is_remote_url(url_or_filename):\n\u001b[1;32m    <a href='file:///home/ravikumar/Downloads/Hackathon/env_subdub/lib/python3.9/site-packages/transformers/utils/hub.py?line=281'>282</a>\u001b[0m     \u001b[39m# URL, so get it from the cache (downloading if necessary)\u001b[39;00m\n\u001b[0;32m--> <a href='file:///home/ravikumar/Downloads/Hackathon/env_subdub/lib/python3.9/site-packages/transformers/utils/hub.py?line=282'>283</a>\u001b[0m     output_path \u001b[39m=\u001b[39m get_from_cache(\n\u001b[1;32m    <a href='file:///home/ravikumar/Downloads/Hackathon/env_subdub/lib/python3.9/site-packages/transformers/utils/hub.py?line=283'>284</a>\u001b[0m         url_or_filename,\n\u001b[1;32m    <a href='file:///home/ravikumar/Downloads/Hackathon/env_subdub/lib/python3.9/site-packages/transformers/utils/hub.py?line=284'>285</a>\u001b[0m         cache_dir\u001b[39m=\u001b[39;49mcache_dir,\n\u001b[1;32m    <a href='file:///home/ravikumar/Downloads/Hackathon/env_subdub/lib/python3.9/site-packages/transformers/utils/hub.py?line=285'>286</a>\u001b[0m         force_download\u001b[39m=\u001b[39;49mforce_download,\n\u001b[1;32m    <a href='file:///home/ravikumar/Downloads/Hackathon/env_subdub/lib/python3.9/site-packages/transformers/utils/hub.py?line=286'>287</a>\u001b[0m         proxies\u001b[39m=\u001b[39;49mproxies,\n\u001b[1;32m    <a href='file:///home/ravikumar/Downloads/Hackathon/env_subdub/lib/python3.9/site-packages/transformers/utils/hub.py?line=287'>288</a>\u001b[0m         resume_download\u001b[39m=\u001b[39;49mresume_download,\n\u001b[1;32m    <a href='file:///home/ravikumar/Downloads/Hackathon/env_subdub/lib/python3.9/site-packages/transformers/utils/hub.py?line=288'>289</a>\u001b[0m         user_agent\u001b[39m=\u001b[39;49muser_agent,\n\u001b[1;32m    <a href='file:///home/ravikumar/Downloads/Hackathon/env_subdub/lib/python3.9/site-packages/transformers/utils/hub.py?line=289'>290</a>\u001b[0m         use_auth_token\u001b[39m=\u001b[39;49muse_auth_token,\n\u001b[1;32m    <a href='file:///home/ravikumar/Downloads/Hackathon/env_subdub/lib/python3.9/site-packages/transformers/utils/hub.py?line=290'>291</a>\u001b[0m         local_files_only\u001b[39m=\u001b[39;49mlocal_files_only,\n\u001b[1;32m    <a href='file:///home/ravikumar/Downloads/Hackathon/env_subdub/lib/python3.9/site-packages/transformers/utils/hub.py?line=291'>292</a>\u001b[0m     )\n\u001b[1;32m    <a href='file:///home/ravikumar/Downloads/Hackathon/env_subdub/lib/python3.9/site-packages/transformers/utils/hub.py?line=292'>293</a>\u001b[0m \u001b[39melif\u001b[39;00m os\u001b[39m.\u001b[39mpath\u001b[39m.\u001b[39mexists(url_or_filename):\n\u001b[1;32m    <a href='file:///home/ravikumar/Downloads/Hackathon/env_subdub/lib/python3.9/site-packages/transformers/utils/hub.py?line=293'>294</a>\u001b[0m     \u001b[39m# File, and it exists.\u001b[39;00m\n\u001b[1;32m    <a href='file:///home/ravikumar/Downloads/Hackathon/env_subdub/lib/python3.9/site-packages/transformers/utils/hub.py?line=294'>295</a>\u001b[0m     output_path \u001b[39m=\u001b[39m url_or_filename\n",
      "File \u001b[0;32m~/Downloads/Hackathon/env_subdub/lib/python3.9/site-packages/transformers/utils/hub.py:553\u001b[0m, in \u001b[0;36mget_from_cache\u001b[0;34m(url, cache_dir, force_download, proxies, etag_timeout, resume_download, user_agent, use_auth_token, local_files_only)\u001b[0m\n\u001b[1;32m    <a href='file:///home/ravikumar/Downloads/Hackathon/env_subdub/lib/python3.9/site-packages/transformers/utils/hub.py?line=546'>547</a>\u001b[0m                 \u001b[39mraise\u001b[39;00m \u001b[39mFileNotFoundError\u001b[39;00m(\n\u001b[1;32m    <a href='file:///home/ravikumar/Downloads/Hackathon/env_subdub/lib/python3.9/site-packages/transformers/utils/hub.py?line=547'>548</a>\u001b[0m                     \u001b[39m\"\u001b[39m\u001b[39mCannot find the requested files in the cached path and outgoing traffic has been\u001b[39m\u001b[39m\"\u001b[39m\n\u001b[1;32m    <a href='file:///home/ravikumar/Downloads/Hackathon/env_subdub/lib/python3.9/site-packages/transformers/utils/hub.py?line=548'>549</a>\u001b[0m                     \u001b[39m\"\u001b[39m\u001b[39m disabled. To enable model look-ups and downloads online, set \u001b[39m\u001b[39m'\u001b[39m\u001b[39mlocal_files_only\u001b[39m\u001b[39m'\u001b[39m\u001b[39m\"\u001b[39m\n\u001b[1;32m    <a href='file:///home/ravikumar/Downloads/Hackathon/env_subdub/lib/python3.9/site-packages/transformers/utils/hub.py?line=549'>550</a>\u001b[0m                     \u001b[39m\"\u001b[39m\u001b[39m to False.\u001b[39m\u001b[39m\"\u001b[39m\n\u001b[1;32m    <a href='file:///home/ravikumar/Downloads/Hackathon/env_subdub/lib/python3.9/site-packages/transformers/utils/hub.py?line=550'>551</a>\u001b[0m                 )\n\u001b[1;32m    <a href='file:///home/ravikumar/Downloads/Hackathon/env_subdub/lib/python3.9/site-packages/transformers/utils/hub.py?line=551'>552</a>\u001b[0m             \u001b[39melse\u001b[39;00m:\n\u001b[0;32m--> <a href='file:///home/ravikumar/Downloads/Hackathon/env_subdub/lib/python3.9/site-packages/transformers/utils/hub.py?line=552'>553</a>\u001b[0m                 \u001b[39mraise\u001b[39;00m \u001b[39mValueError\u001b[39;00m(\n\u001b[1;32m    <a href='file:///home/ravikumar/Downloads/Hackathon/env_subdub/lib/python3.9/site-packages/transformers/utils/hub.py?line=553'>554</a>\u001b[0m                     \u001b[39m\"\u001b[39m\u001b[39mConnection error, and we cannot find the requested files in the cached path.\u001b[39m\u001b[39m\"\u001b[39m\n\u001b[1;32m    <a href='file:///home/ravikumar/Downloads/Hackathon/env_subdub/lib/python3.9/site-packages/transformers/utils/hub.py?line=554'>555</a>\u001b[0m                     \u001b[39m\"\u001b[39m\u001b[39m Please try again or make sure your Internet connection is on.\u001b[39m\u001b[39m\"\u001b[39m\n\u001b[1;32m    <a href='file:///home/ravikumar/Downloads/Hackathon/env_subdub/lib/python3.9/site-packages/transformers/utils/hub.py?line=555'>556</a>\u001b[0m                 )\n\u001b[1;32m    <a href='file:///home/ravikumar/Downloads/Hackathon/env_subdub/lib/python3.9/site-packages/transformers/utils/hub.py?line=557'>558</a>\u001b[0m \u001b[39m# From now on, etag is not None.\u001b[39;00m\n\u001b[1;32m    <a href='file:///home/ravikumar/Downloads/Hackathon/env_subdub/lib/python3.9/site-packages/transformers/utils/hub.py?line=558'>559</a>\u001b[0m \u001b[39mif\u001b[39;00m os\u001b[39m.\u001b[39mpath\u001b[39m.\u001b[39mexists(cache_path) \u001b[39mand\u001b[39;00m \u001b[39mnot\u001b[39;00m force_download:\n",
      "\u001b[0;31mValueError\u001b[0m: Connection error, and we cannot find the requested files in the cached path. Please try again or make sure your Internet connection is on."
     ]
    }
   ],
   "source": [
    "tokenizer = AutoTokenizer.from_pretrained(\"Helsinki-NLP/opus-mt-en-fr\")"
   ]
  },
  {
   "cell_type": "code",
   "execution_count": 37,
   "metadata": {},
   "outputs": [
    {
     "name": "stdout",
     "output_type": "stream",
     "text": [
      "huggingface/tokenizers: The current process just got forked, after parallelism has already been used. Disabling parallelism to avoid deadlocks...\n",
      "To disable this warning, you can either:\n",
      "\t- Avoid using `tokenizers` before the fork if possible\n",
      "\t- Explicitly set the environment variable TOKENIZERS_PARALLELISM=(true | false)\n",
      "\u001b[31mERROR: Could not find a version that satisfies the requirement upgrade (from versions: none)\u001b[0m\n",
      "\u001b[31mERROR: No matching distribution found for upgrade\u001b[0m\n",
      "\u001b[33mWARNING: You are using pip version 21.2.3; however, version 22.1.2 is available.\n",
      "You should consider upgrading via the '/home/ravikumar/Downloads/Hackathon/env_subdub/bin/python3 -m pip install --upgrade pip' command.\u001b[0m\n"
     ]
    }
   ],
   "source": [
    "!pip3 install -q tensorflow upgrade"
   ]
  },
  {
   "cell_type": "code",
   "execution_count": 35,
   "metadata": {},
   "outputs": [],
   "source": [
    "from transformers import pipeline"
   ]
  },
  {
   "cell_type": "code",
   "execution_count": 36,
   "metadata": {},
   "outputs": [
    {
     "name": "stderr",
     "output_type": "stream",
     "text": [
      "Downloading: 100%|██████████| 1.26k/1.26k [00:00<00:00, 747kB/s]\n"
     ]
    },
    {
     "ename": "RuntimeError",
     "evalue": "At least one of TensorFlow 2.0 or PyTorch should be installed. To install TensorFlow 2.0, read the instructions at https://www.tensorflow.org/install/ To install PyTorch, read the instructions at https://pytorch.org/.",
     "output_type": "error",
     "traceback": [
      "\u001b[0;31m---------------------------------------------------------------------------\u001b[0m",
      "\u001b[0;31mRuntimeError\u001b[0m                              Traceback (most recent call last)",
      "\u001b[1;32m/home/ravikumar/Downloads/Hackathon/subdub/analysis/analysis.ipynb Cell 21'\u001b[0m in \u001b[0;36m<cell line: 2>\u001b[0;34m()\u001b[0m\n\u001b[1;32m      <a href='vscode-notebook-cell:/home/ravikumar/Downloads/Hackathon/subdub/analysis/analysis.ipynb#ch0000020?line=0'>1</a>\u001b[0m model_checkpoint \u001b[39m=\u001b[39m \u001b[39m\"\u001b[39m\u001b[39mHelsinki-NLP/opus-mt-en-fr\u001b[39m\u001b[39m\"\u001b[39m\n\u001b[0;32m----> <a href='vscode-notebook-cell:/home/ravikumar/Downloads/Hackathon/subdub/analysis/analysis.ipynb#ch0000020?line=1'>2</a>\u001b[0m translator \u001b[39m=\u001b[39m pipeline(\u001b[39m\"\u001b[39;49m\u001b[39mtranslation\u001b[39;49m\u001b[39m\"\u001b[39;49m, model\u001b[39m=\u001b[39;49mmodel_checkpoint)\n",
      "File \u001b[0;32m~/Downloads/Hackathon/env_subdub/lib/python3.9/site-packages/transformers/pipelines/__init__.py:549\u001b[0m, in \u001b[0;36mpipeline\u001b[0;34m(task, model, config, tokenizer, feature_extractor, framework, revision, use_fast, use_auth_token, model_kwargs, pipeline_class, **kwargs)\u001b[0m\n\u001b[1;32m    <a href='file:///home/ravikumar/Downloads/Hackathon/env_subdub/lib/python3.9/site-packages/transformers/pipelines/__init__.py?line=544'>545</a>\u001b[0m \u001b[39m# Infer the framework from the model\u001b[39;00m\n\u001b[1;32m    <a href='file:///home/ravikumar/Downloads/Hackathon/env_subdub/lib/python3.9/site-packages/transformers/pipelines/__init__.py?line=545'>546</a>\u001b[0m \u001b[39m# Forced if framework already defined, inferred if it's None\u001b[39;00m\n\u001b[1;32m    <a href='file:///home/ravikumar/Downloads/Hackathon/env_subdub/lib/python3.9/site-packages/transformers/pipelines/__init__.py?line=546'>547</a>\u001b[0m \u001b[39m# Will load the correct model if possible\u001b[39;00m\n\u001b[1;32m    <a href='file:///home/ravikumar/Downloads/Hackathon/env_subdub/lib/python3.9/site-packages/transformers/pipelines/__init__.py?line=547'>548</a>\u001b[0m model_classes \u001b[39m=\u001b[39m {\u001b[39m\"\u001b[39m\u001b[39mtf\u001b[39m\u001b[39m\"\u001b[39m: targeted_task[\u001b[39m\"\u001b[39m\u001b[39mtf\u001b[39m\u001b[39m\"\u001b[39m], \u001b[39m\"\u001b[39m\u001b[39mpt\u001b[39m\u001b[39m\"\u001b[39m: targeted_task[\u001b[39m\"\u001b[39m\u001b[39mpt\u001b[39m\u001b[39m\"\u001b[39m]}\n\u001b[0;32m--> <a href='file:///home/ravikumar/Downloads/Hackathon/env_subdub/lib/python3.9/site-packages/transformers/pipelines/__init__.py?line=548'>549</a>\u001b[0m framework, model \u001b[39m=\u001b[39m infer_framework_load_model(\n\u001b[1;32m    <a href='file:///home/ravikumar/Downloads/Hackathon/env_subdub/lib/python3.9/site-packages/transformers/pipelines/__init__.py?line=549'>550</a>\u001b[0m     model,\n\u001b[1;32m    <a href='file:///home/ravikumar/Downloads/Hackathon/env_subdub/lib/python3.9/site-packages/transformers/pipelines/__init__.py?line=550'>551</a>\u001b[0m     model_classes\u001b[39m=\u001b[39;49mmodel_classes,\n\u001b[1;32m    <a href='file:///home/ravikumar/Downloads/Hackathon/env_subdub/lib/python3.9/site-packages/transformers/pipelines/__init__.py?line=551'>552</a>\u001b[0m     config\u001b[39m=\u001b[39;49mconfig,\n\u001b[1;32m    <a href='file:///home/ravikumar/Downloads/Hackathon/env_subdub/lib/python3.9/site-packages/transformers/pipelines/__init__.py?line=552'>553</a>\u001b[0m     framework\u001b[39m=\u001b[39;49mframework,\n\u001b[1;32m    <a href='file:///home/ravikumar/Downloads/Hackathon/env_subdub/lib/python3.9/site-packages/transformers/pipelines/__init__.py?line=553'>554</a>\u001b[0m     revision\u001b[39m=\u001b[39;49mrevision,\n\u001b[1;32m    <a href='file:///home/ravikumar/Downloads/Hackathon/env_subdub/lib/python3.9/site-packages/transformers/pipelines/__init__.py?line=554'>555</a>\u001b[0m     task\u001b[39m=\u001b[39;49mtask,\n\u001b[1;32m    <a href='file:///home/ravikumar/Downloads/Hackathon/env_subdub/lib/python3.9/site-packages/transformers/pipelines/__init__.py?line=555'>556</a>\u001b[0m     \u001b[39m*\u001b[39;49m\u001b[39m*\u001b[39;49mmodel_kwargs,\n\u001b[1;32m    <a href='file:///home/ravikumar/Downloads/Hackathon/env_subdub/lib/python3.9/site-packages/transformers/pipelines/__init__.py?line=556'>557</a>\u001b[0m )\n\u001b[1;32m    <a href='file:///home/ravikumar/Downloads/Hackathon/env_subdub/lib/python3.9/site-packages/transformers/pipelines/__init__.py?line=558'>559</a>\u001b[0m model_config \u001b[39m=\u001b[39m model\u001b[39m.\u001b[39mconfig\n\u001b[1;32m    <a href='file:///home/ravikumar/Downloads/Hackathon/env_subdub/lib/python3.9/site-packages/transformers/pipelines/__init__.py?line=560'>561</a>\u001b[0m load_tokenizer \u001b[39m=\u001b[39m \u001b[39mtype\u001b[39m(model_config) \u001b[39min\u001b[39;00m TOKENIZER_MAPPING \u001b[39mor\u001b[39;00m model_config\u001b[39m.\u001b[39mtokenizer_class \u001b[39mis\u001b[39;00m \u001b[39mnot\u001b[39;00m \u001b[39mNone\u001b[39;00m\n",
      "File \u001b[0;32m~/Downloads/Hackathon/env_subdub/lib/python3.9/site-packages/transformers/pipelines/base.py:198\u001b[0m, in \u001b[0;36minfer_framework_load_model\u001b[0;34m(model, config, model_classes, task, framework, **model_kwargs)\u001b[0m\n\u001b[1;32m    <a href='file:///home/ravikumar/Downloads/Hackathon/env_subdub/lib/python3.9/site-packages/transformers/pipelines/base.py?line=171'>172</a>\u001b[0m \u001b[39m\"\"\"\u001b[39;00m\n\u001b[1;32m    <a href='file:///home/ravikumar/Downloads/Hackathon/env_subdub/lib/python3.9/site-packages/transformers/pipelines/base.py?line=172'>173</a>\u001b[0m \u001b[39mSelect framework (TensorFlow or PyTorch) to use from the `model` passed. Returns a tuple (framework, model).\u001b[39;00m\n\u001b[1;32m    <a href='file:///home/ravikumar/Downloads/Hackathon/env_subdub/lib/python3.9/site-packages/transformers/pipelines/base.py?line=173'>174</a>\u001b[0m \n\u001b[0;32m   (...)\u001b[0m\n\u001b[1;32m    <a href='file:///home/ravikumar/Downloads/Hackathon/env_subdub/lib/python3.9/site-packages/transformers/pipelines/base.py?line=194'>195</a>\u001b[0m \u001b[39m    `Tuple`: A tuple framework, model.\u001b[39;00m\n\u001b[1;32m    <a href='file:///home/ravikumar/Downloads/Hackathon/env_subdub/lib/python3.9/site-packages/transformers/pipelines/base.py?line=195'>196</a>\u001b[0m \u001b[39m\"\"\"\u001b[39;00m\n\u001b[1;32m    <a href='file:///home/ravikumar/Downloads/Hackathon/env_subdub/lib/python3.9/site-packages/transformers/pipelines/base.py?line=196'>197</a>\u001b[0m \u001b[39mif\u001b[39;00m \u001b[39mnot\u001b[39;00m is_tf_available() \u001b[39mand\u001b[39;00m \u001b[39mnot\u001b[39;00m is_torch_available():\n\u001b[0;32m--> <a href='file:///home/ravikumar/Downloads/Hackathon/env_subdub/lib/python3.9/site-packages/transformers/pipelines/base.py?line=197'>198</a>\u001b[0m     \u001b[39mraise\u001b[39;00m \u001b[39mRuntimeError\u001b[39;00m(\n\u001b[1;32m    <a href='file:///home/ravikumar/Downloads/Hackathon/env_subdub/lib/python3.9/site-packages/transformers/pipelines/base.py?line=198'>199</a>\u001b[0m         \u001b[39m\"\u001b[39m\u001b[39mAt least one of TensorFlow 2.0 or PyTorch should be installed. \u001b[39m\u001b[39m\"\u001b[39m\n\u001b[1;32m    <a href='file:///home/ravikumar/Downloads/Hackathon/env_subdub/lib/python3.9/site-packages/transformers/pipelines/base.py?line=199'>200</a>\u001b[0m         \u001b[39m\"\u001b[39m\u001b[39mTo install TensorFlow 2.0, read the instructions at https://www.tensorflow.org/install/ \u001b[39m\u001b[39m\"\u001b[39m\n\u001b[1;32m    <a href='file:///home/ravikumar/Downloads/Hackathon/env_subdub/lib/python3.9/site-packages/transformers/pipelines/base.py?line=200'>201</a>\u001b[0m         \u001b[39m\"\u001b[39m\u001b[39mTo install PyTorch, read the instructions at https://pytorch.org/.\u001b[39m\u001b[39m\"\u001b[39m\n\u001b[1;32m    <a href='file:///home/ravikumar/Downloads/Hackathon/env_subdub/lib/python3.9/site-packages/transformers/pipelines/base.py?line=201'>202</a>\u001b[0m     )\n\u001b[1;32m    <a href='file:///home/ravikumar/Downloads/Hackathon/env_subdub/lib/python3.9/site-packages/transformers/pipelines/base.py?line=202'>203</a>\u001b[0m \u001b[39mif\u001b[39;00m \u001b[39misinstance\u001b[39m(model, \u001b[39mstr\u001b[39m):\n\u001b[1;32m    <a href='file:///home/ravikumar/Downloads/Hackathon/env_subdub/lib/python3.9/site-packages/transformers/pipelines/base.py?line=203'>204</a>\u001b[0m     model_kwargs[\u001b[39m\"\u001b[39m\u001b[39m_from_pipeline\u001b[39m\u001b[39m\"\u001b[39m] \u001b[39m=\u001b[39m task\n",
      "\u001b[0;31mRuntimeError\u001b[0m: At least one of TensorFlow 2.0 or PyTorch should be installed. To install TensorFlow 2.0, read the instructions at https://www.tensorflow.org/install/ To install PyTorch, read the instructions at https://pytorch.org/."
     ]
    }
   ],
   "source": [
    "model_checkpoint = \"Helsinki-NLP/opus-mt-en-fr\"\n",
    "translator = pipeline(\"translation\", model=model_checkpoint)"
   ]
  },
  {
   "cell_type": "code",
   "execution_count": null,
   "metadata": {},
   "outputs": [],
   "source": [
    "translator"
   ]
  }
 ],
 "metadata": {
  "interpreter": {
   "hash": "d8208b7605db7b2d9331b169f257620e9bfb198ff4a2e9b62659b3604e5bf2ba"
  },
  "kernelspec": {
   "display_name": "Python 3.9.7 ('env_subdub': venv)",
   "language": "python",
   "name": "python3"
  },
  "language_info": {
   "codemirror_mode": {
    "name": "ipython",
    "version": 3
   },
   "file_extension": ".py",
   "mimetype": "text/x-python",
   "name": "python",
   "nbconvert_exporter": "python",
   "pygments_lexer": "ipython3",
   "version": "3.9.7"
  },
  "orig_nbformat": 4
 },
 "nbformat": 4,
 "nbformat_minor": 2
}
